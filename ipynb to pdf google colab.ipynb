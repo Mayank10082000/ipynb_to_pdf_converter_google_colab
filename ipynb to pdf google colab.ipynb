{
 "cells": [
  {
   "cell_type": "code",
   "execution_count": null,
   "metadata": {},
   "outputs": [],
   "source": [
    "# Install necessary packages\n",
    "!pip install pypandoc\n",
    "!apt-get install texlive texlive-xetex texlive-latex-extra pandoc\n",
    "\n",
    "# Define the path to the notebook and the desired output path\n",
    "notebook_path = '/content/drive/MyDrive/Colab Notebooks/Test_2.ipynb'\n",
    "output_pdf_path = '/content/Test_2.pdf'\n",
    "\n",
    "# Convert the notebook to PDF and save it directly to Google Drive\n",
    "!jupyter nbconvert --to PDF \"{notebook_path}\" --output \"{output_pdf_path}\""
   ]
  }
 ],
 "metadata": {
  "language_info": {
   "name": "python"
  }
 },
 "nbformat": 4,
 "nbformat_minor": 2
}

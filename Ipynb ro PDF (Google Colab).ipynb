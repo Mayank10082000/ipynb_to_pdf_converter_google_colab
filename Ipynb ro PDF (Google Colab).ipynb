{
 "cells": [
  {
   "cell_type": "markdown",
   "metadata": {},
   "source": [
    "## Code to convert current working ipynb file into pdf in google colab"
   ]
  },
  {
   "cell_type": "code",
   "execution_count": null,
   "metadata": {},
   "outputs": [],
   "source": [
    "!pip install pypandoc\n",
    "!apt-get install texlive texlive-xetex texlive-latex-extra pandoc\n",
    "\n",
    "!jupyter nbconvert--to PDF '/content/drive/MyDrive/BraTS Segmentation/Test.ipynb'"
   ]
  }
 ],
 "metadata": {
  "language_info": {
   "name": "python"
  }
 },
 "nbformat": 4,
 "nbformat_minor": 2
}
